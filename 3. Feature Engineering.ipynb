{
 "cells": [
  {
   "cell_type": "markdown",
   "id": "e59147c6",
   "metadata": {},
   "source": [
    "# РАЗДЕЛ 3. Конструирование признаков"
   ]
  },
  {
   "cell_type": "code",
   "execution_count": 30,
   "id": "dd0fd303",
   "metadata": {},
   "outputs": [],
   "source": [
    "import numpy as np\n",
    "import pandas as pd\n",
    "import seaborn as sns\n",
    "import matplotlib.pyplot as plt\n",
    "from matplotlib.cbook import boxplot_stats\n",
    "from sklearn.model_selection import train_test_split\n",
    "from sklearn.linear_model import LinearRegression, Ridge, Lasso, ElasticNet, SGDRegressor, BayesianRidge\n",
    "from sklearn.metrics import mean_absolute_error, r2_score\n",
    "from sklearn.preprocessing import MinMaxScaler, StandardScaler, LabelEncoder\n",
    "from sklearn.ensemble import GradientBoostingRegressor\n",
    "from sklearn.ensemble import AdaBoostRegressor\n",
    "from sklearn.neighbors import KNeighborsRegressor\n",
    "from sklearn.tree import DecisionTreeRegressor\n",
    "from tensorflow.keras import Sequential\n",
    "from tensorflow.keras.layers import Dense\n",
    "%matplotlib inline \n",
    "sns.set(style=\"ticks\")"
   ]
  },
  {
   "cell_type": "markdown",
   "id": "15dc2e5f",
   "metadata": {},
   "source": [
    "Попробуем изменить качество и количество признаков и оценить их влияние на точность модели LinearRegression\n",
    "1. Удалим из dataset выбросы\n",
    "2. Переведем в категориальный признак \"Угол нашивки, град\"\n",
    "3. Сократим количество признаков, оказывающих наименьшее влияние на модель."
   ]
  },
  {
   "cell_type": "code",
   "execution_count": 3,
   "id": "e6b49123",
   "metadata": {},
   "outputs": [
    {
     "data": {
      "text/html": [
       "<div>\n",
       "<style scoped>\n",
       "    .dataframe tbody tr th:only-of-type {\n",
       "        vertical-align: middle;\n",
       "    }\n",
       "\n",
       "    .dataframe tbody tr th {\n",
       "        vertical-align: top;\n",
       "    }\n",
       "\n",
       "    .dataframe thead th {\n",
       "        text-align: right;\n",
       "    }\n",
       "</style>\n",
       "<table border=\"1\" class=\"dataframe\">\n",
       "  <thead>\n",
       "    <tr style=\"text-align: right;\">\n",
       "      <th></th>\n",
       "      <th>Соотношение матрица-наполнитель</th>\n",
       "      <th>Плотность, кг/м3</th>\n",
       "      <th>модуль упругости, ГПа</th>\n",
       "      <th>Количество отвердителя, м.%</th>\n",
       "      <th>Содержание эпоксидных групп,%_2</th>\n",
       "      <th>Температура вспышки, С_2</th>\n",
       "      <th>Поверхностная плотность, г/м2</th>\n",
       "      <th>Потребление смолы, г/м2</th>\n",
       "      <th>Угол нашивки, град</th>\n",
       "      <th>Шаг нашивки</th>\n",
       "      <th>Плотность нашивки</th>\n",
       "    </tr>\n",
       "  </thead>\n",
       "  <tbody>\n",
       "    <tr>\n",
       "      <th>0</th>\n",
       "      <td>1.857143</td>\n",
       "      <td>2030.0</td>\n",
       "      <td>738.736842</td>\n",
       "      <td>30.00</td>\n",
       "      <td>22.267857</td>\n",
       "      <td>100.000000</td>\n",
       "      <td>210.0</td>\n",
       "      <td>220.0</td>\n",
       "      <td>0</td>\n",
       "      <td>4.0</td>\n",
       "      <td>57.0</td>\n",
       "    </tr>\n",
       "    <tr>\n",
       "      <th>1</th>\n",
       "      <td>1.857143</td>\n",
       "      <td>2030.0</td>\n",
       "      <td>738.736842</td>\n",
       "      <td>50.00</td>\n",
       "      <td>23.750000</td>\n",
       "      <td>284.615385</td>\n",
       "      <td>210.0</td>\n",
       "      <td>220.0</td>\n",
       "      <td>0</td>\n",
       "      <td>4.0</td>\n",
       "      <td>60.0</td>\n",
       "    </tr>\n",
       "    <tr>\n",
       "      <th>2</th>\n",
       "      <td>1.857143</td>\n",
       "      <td>2030.0</td>\n",
       "      <td>738.736842</td>\n",
       "      <td>49.90</td>\n",
       "      <td>33.000000</td>\n",
       "      <td>284.615385</td>\n",
       "      <td>210.0</td>\n",
       "      <td>220.0</td>\n",
       "      <td>0</td>\n",
       "      <td>4.0</td>\n",
       "      <td>70.0</td>\n",
       "    </tr>\n",
       "    <tr>\n",
       "      <th>3</th>\n",
       "      <td>1.857143</td>\n",
       "      <td>2030.0</td>\n",
       "      <td>738.736842</td>\n",
       "      <td>129.00</td>\n",
       "      <td>21.250000</td>\n",
       "      <td>300.000000</td>\n",
       "      <td>210.0</td>\n",
       "      <td>220.0</td>\n",
       "      <td>0</td>\n",
       "      <td>5.0</td>\n",
       "      <td>47.0</td>\n",
       "    </tr>\n",
       "    <tr>\n",
       "      <th>4</th>\n",
       "      <td>2.771331</td>\n",
       "      <td>2030.0</td>\n",
       "      <td>753.000000</td>\n",
       "      <td>111.86</td>\n",
       "      <td>22.267857</td>\n",
       "      <td>284.615385</td>\n",
       "      <td>210.0</td>\n",
       "      <td>220.0</td>\n",
       "      <td>0</td>\n",
       "      <td>5.0</td>\n",
       "      <td>57.0</td>\n",
       "    </tr>\n",
       "  </tbody>\n",
       "</table>\n",
       "</div>"
      ],
      "text/plain": [
       "   Соотношение матрица-наполнитель  Плотность, кг/м3  модуль упругости, ГПа  \\\n",
       "0                         1.857143            2030.0             738.736842   \n",
       "1                         1.857143            2030.0             738.736842   \n",
       "2                         1.857143            2030.0             738.736842   \n",
       "3                         1.857143            2030.0             738.736842   \n",
       "4                         2.771331            2030.0             753.000000   \n",
       "\n",
       "   Количество отвердителя, м.%  Содержание эпоксидных групп,%_2  \\\n",
       "0                        30.00                        22.267857   \n",
       "1                        50.00                        23.750000   \n",
       "2                        49.90                        33.000000   \n",
       "3                       129.00                        21.250000   \n",
       "4                       111.86                        22.267857   \n",
       "\n",
       "   Температура вспышки, С_2  Поверхностная плотность, г/м2  \\\n",
       "0                100.000000                          210.0   \n",
       "1                284.615385                          210.0   \n",
       "2                284.615385                          210.0   \n",
       "3                300.000000                          210.0   \n",
       "4                284.615385                          210.0   \n",
       "\n",
       "   Потребление смолы, г/м2  Угол нашивки, град  Шаг нашивки  Плотность нашивки  \n",
       "0                    220.0                   0          4.0               57.0  \n",
       "1                    220.0                   0          4.0               60.0  \n",
       "2                    220.0                   0          4.0               70.0  \n",
       "3                    220.0                   0          5.0               47.0  \n",
       "4                    220.0                   0          5.0               57.0  "
      ]
     },
     "execution_count": 3,
     "metadata": {},
     "output_type": "execute_result"
    }
   ],
   "source": [
    "# Подготовка данных для обучения\n",
    "path_1 = r'./Data/X.xlsx'\n",
    "X = pd.read_excel(path_1,index_col=0)\n",
    "X.head()"
   ]
  },
  {
   "cell_type": "code",
   "execution_count": 4,
   "id": "0df3e66a",
   "metadata": {},
   "outputs": [
    {
     "data": {
      "text/html": [
       "<div>\n",
       "<style scoped>\n",
       "    .dataframe tbody tr th:only-of-type {\n",
       "        vertical-align: middle;\n",
       "    }\n",
       "\n",
       "    .dataframe tbody tr th {\n",
       "        vertical-align: top;\n",
       "    }\n",
       "\n",
       "    .dataframe thead th {\n",
       "        text-align: right;\n",
       "    }\n",
       "</style>\n",
       "<table border=\"1\" class=\"dataframe\">\n",
       "  <thead>\n",
       "    <tr style=\"text-align: right;\">\n",
       "      <th></th>\n",
       "      <th>Модуль упругости при растяжении, ГПа</th>\n",
       "      <th>Прочность при растяжении, МПа</th>\n",
       "    </tr>\n",
       "  </thead>\n",
       "  <tbody>\n",
       "    <tr>\n",
       "      <th>0</th>\n",
       "      <td>70.0</td>\n",
       "      <td>3000.0</td>\n",
       "    </tr>\n",
       "    <tr>\n",
       "      <th>1</th>\n",
       "      <td>70.0</td>\n",
       "      <td>3000.0</td>\n",
       "    </tr>\n",
       "    <tr>\n",
       "      <th>2</th>\n",
       "      <td>70.0</td>\n",
       "      <td>3000.0</td>\n",
       "    </tr>\n",
       "    <tr>\n",
       "      <th>3</th>\n",
       "      <td>70.0</td>\n",
       "      <td>3000.0</td>\n",
       "    </tr>\n",
       "    <tr>\n",
       "      <th>4</th>\n",
       "      <td>70.0</td>\n",
       "      <td>3000.0</td>\n",
       "    </tr>\n",
       "  </tbody>\n",
       "</table>\n",
       "</div>"
      ],
      "text/plain": [
       "   Модуль упругости при растяжении, ГПа  Прочность при растяжении, МПа\n",
       "0                                  70.0                         3000.0\n",
       "1                                  70.0                         3000.0\n",
       "2                                  70.0                         3000.0\n",
       "3                                  70.0                         3000.0\n",
       "4                                  70.0                         3000.0"
      ]
     },
     "execution_count": 4,
     "metadata": {},
     "output_type": "execute_result"
    }
   ],
   "source": [
    "path_2 = r'./Data/y.xlsx'\n",
    "y = pd.read_excel(path_2,index_col=0)\n",
    "y.head()"
   ]
  },
  {
   "cell_type": "code",
   "execution_count": 62,
   "id": "c374dc2b",
   "metadata": {},
   "outputs": [
    {
     "name": "stdout",
     "output_type": "stream",
     "text": [
      "(1023, 13)\n",
      "Количество выбросов в столбце  Соотношение матрица-наполнитель :  6\n",
      "Количество выбросов в столбце  Плотность, кг/м3 :  9\n",
      "Количество выбросов в столбце  модуль упругости, ГПа :  2\n",
      "Количество выбросов в столбце  Количество отвердителя, м.% :  14\n",
      "Количество выбросов в столбце  Содержание эпоксидных групп,%_2 :  2\n",
      "Количество выбросов в столбце  Температура вспышки, С_2 :  6\n",
      "Количество выбросов в столбце  Поверхностная плотность, г/м2 :  2\n",
      "Количество выбросов в столбце  Потребление смолы, г/м2 :  5\n",
      "Количество выбросов в столбце  Угол нашивки, град :  0\n",
      "Количество выбросов в столбце  Шаг нашивки :  4\n",
      "Количество выбросов в столбце  Плотность нашивки :  21\n",
      "Количество выбросов в столбце  Модуль упругости при растяжении, ГПа :  6\n",
      "Количество выбросов в столбце  Прочность при растяжении, МПа :  13\n",
      "(933, 13)\n"
     ]
    }
   ],
   "source": [
    "# удаление аномалий\n",
    "\n",
    "X_clear = X.copy()\n",
    "X_clear = X_clear.join(y,how='inner')\n",
    "print(X_clear.shape)\n",
    "for name in X_clear.columns:\n",
    "    outlier = boxplot_stats(X_clear[name])\n",
    "    High = outlier[0]['whishi']\n",
    "    Low =  outlier[0]['whislo']\n",
    "    print ('Количество выбросов в столбце ', name, ': ', len(outlier[0]['fliers']))\n",
    "    X_clear = X_clear[~((X_clear[name] < Low) | (X_clear[name] > High))]\n",
    "print(X_clear.shape)  \n",
    "y_clear = X_clear[['Модуль упругости при растяжении, ГПа', 'Прочность при растяжении, МПа']]\n",
    "X_clear = X_clear.drop(columns=['Модуль упругости при растяжении, ГПа', 'Прочность при растяжении, МПа'], axis=1)"
   ]
  },
  {
   "cell_type": "code",
   "execution_count": 63,
   "id": "5be24257",
   "metadata": {},
   "outputs": [],
   "source": [
    "X_train_Cl, X_test_Cl, y_train_Cl, y_test_Cl = train_test_split(X_clear,y_clear, test_size=0.2, random_state=42, shuffle=True)"
   ]
  },
  {
   "cell_type": "code",
   "execution_count": 66,
   "id": "ac5a6557",
   "metadata": {},
   "outputs": [
    {
     "name": "stdout",
     "output_type": "stream",
     "text": [
      "2.5316335387451\n"
     ]
    }
   ],
   "source": [
    "modelLasso = Lasso(alpha=0.5)\n",
    "modelLasso.fit(X_train_Cl,y_train_Cl.iloc[:,0])\n",
    "y_pred = modelLasso.predict(X_test_Cl)\n",
    "MAELasso_1 = mean_absolute_error(y_test_Cl.iloc[:,0],y_pred)\n",
    "#MAELasso_2 = mean_absolute_error(y_test.iloc[:,1],y_pred[:,1])\n",
    "print (MAELasso_1)\n",
    "#print (MAELasso_2)"
   ]
  },
  {
   "cell_type": "code",
   "execution_count": 11,
   "id": "374c4385",
   "metadata": {},
   "outputs": [],
   "source": [
    "X_train, X_test, y_train, y_test = train_test_split(X,y, test_size=0.2, random_state=42, shuffle=True)"
   ]
  },
  {
   "cell_type": "code",
   "execution_count": 16,
   "id": "4316af07",
   "metadata": {},
   "outputs": [
    {
     "name": "stdout",
     "output_type": "stream",
     "text": [
      "2.4525905054397974\n"
     ]
    }
   ],
   "source": [
    "modelLasso = Lasso(alpha=0.1)\n",
    "modelLasso.fit(X_train,y_train.iloc[:,0])\n",
    "y_pred = modelLasso.predict(X_test)\n",
    "MAELasso_1 = mean_absolute_error(y_test.iloc[:,0],y_pred)\n",
    "#MAELasso_2 = mean_absolute_error(y_test.iloc[:,1],y_pred[:,1])\n",
    "print (MAELasso_1)\n",
    "#print (MAELasso_2)"
   ]
  },
  {
   "cell_type": "code",
   "execution_count": 17,
   "id": "ee570330",
   "metadata": {},
   "outputs": [
    {
     "name": "stdout",
     "output_type": "stream",
     "text": [
      "Коэффициенты линейной регрессии:\n",
      "Соотношение матрица-наполнитель :  -0.0\n",
      "Плотность, кг/м3 :  -2.974588831180432e-05\n",
      "модуль упругости, ГПа :  0.00016930636133857818\n",
      "Количество отвердителя, м.% :  -0.009264077328852023\n",
      "Содержание эпоксидных групп,%_2 :  0.05292516131827831\n",
      "Температура вспышки, С_2 :  0.003634586155642412\n",
      "Поверхностная плотность, г/м2 :  0.0004180388369372239\n",
      "Потребление смолы, г/м2 :  0.002419344917796023\n",
      "Угол нашивки, град :  0.0004006887943768163\n",
      "Шаг нашивки :  -0.03522664129469981\n",
      "Плотность нашивки :  0.003009415216398519\n"
     ]
    }
   ],
   "source": [
    "i=0\n",
    "print('Коэффициенты линейной регрессии:')\n",
    "for name in X.columns:\n",
    "    print (name, ': ',modelLasso.coef_[i])\n",
    "    i+=1\n"
   ]
  },
  {
   "cell_type": "code",
   "execution_count": 44,
   "id": "c2ecde92",
   "metadata": {},
   "outputs": [],
   "source": [
    "X_1 = X[['Количество отвердителя, м.%',\n",
    "       'Содержание эпоксидных групп,%_2', 'Температура вспышки, С_2',\n",
    "        'Потребление смолы, г/м2',\n",
    "        'Шаг нашивки', 'Плотность нашивки']].values"
   ]
  },
  {
   "cell_type": "code",
   "execution_count": 45,
   "id": "c1488fd4",
   "metadata": {},
   "outputs": [],
   "source": [
    "X_train_1, X_test_1, y_train_1, y_test_1 = train_test_split(X_1,y, test_size=0.2, random_state=42, shuffle=True)"
   ]
  },
  {
   "cell_type": "code",
   "execution_count": 46,
   "id": "23e55dba",
   "metadata": {},
   "outputs": [
    {
     "name": "stdout",
     "output_type": "stream",
     "text": [
      "2.4579633257646627\n"
     ]
    }
   ],
   "source": [
    "modelLasso = Lasso(alpha=0.15)\n",
    "modelLasso.fit(X_train_1,y_train_1.iloc[:,0])\n",
    "y_pred = modelLasso.predict(X_test_1)\n",
    "MAELasso_1 = mean_absolute_error(y_test_1.iloc[:,0],y_pred)\n",
    "#MAELasso_2 = mean_absolute_error(y_test.iloc[:,1],y_pred[:,1])\n",
    "print (MAELasso_1)\n",
    "#print (MAELasso_2)"
   ]
  },
  {
   "cell_type": "code",
   "execution_count": 39,
   "id": "02374887",
   "metadata": {},
   "outputs": [
    {
     "data": {
      "text/html": [
       "<div>\n",
       "<style scoped>\n",
       "    .dataframe tbody tr th:only-of-type {\n",
       "        vertical-align: middle;\n",
       "    }\n",
       "\n",
       "    .dataframe tbody tr th {\n",
       "        vertical-align: top;\n",
       "    }\n",
       "\n",
       "    .dataframe thead th {\n",
       "        text-align: right;\n",
       "    }\n",
       "</style>\n",
       "<table border=\"1\" class=\"dataframe\">\n",
       "  <thead>\n",
       "    <tr style=\"text-align: right;\">\n",
       "      <th></th>\n",
       "      <th>Соотношение матрица-наполнитель</th>\n",
       "      <th>Плотность, кг/м3</th>\n",
       "      <th>модуль упругости, ГПа</th>\n",
       "      <th>Количество отвердителя, м.%</th>\n",
       "      <th>Содержание эпоксидных групп,%_2</th>\n",
       "      <th>Температура вспышки, С_2</th>\n",
       "      <th>Поверхностная плотность, г/м2</th>\n",
       "      <th>Потребление смолы, г/м2</th>\n",
       "      <th>Угол нашивки, град</th>\n",
       "      <th>Шаг нашивки</th>\n",
       "      <th>Плотность нашивки</th>\n",
       "    </tr>\n",
       "  </thead>\n",
       "  <tbody>\n",
       "    <tr>\n",
       "      <th>0</th>\n",
       "      <td>1.857143</td>\n",
       "      <td>2030.0</td>\n",
       "      <td>738.736842</td>\n",
       "      <td>30.00</td>\n",
       "      <td>22.267857</td>\n",
       "      <td>100.000000</td>\n",
       "      <td>210.0</td>\n",
       "      <td>220.0</td>\n",
       "      <td>0</td>\n",
       "      <td>4.0</td>\n",
       "      <td>57.0</td>\n",
       "    </tr>\n",
       "    <tr>\n",
       "      <th>1</th>\n",
       "      <td>1.857143</td>\n",
       "      <td>2030.0</td>\n",
       "      <td>738.736842</td>\n",
       "      <td>50.00</td>\n",
       "      <td>23.750000</td>\n",
       "      <td>284.615385</td>\n",
       "      <td>210.0</td>\n",
       "      <td>220.0</td>\n",
       "      <td>0</td>\n",
       "      <td>4.0</td>\n",
       "      <td>60.0</td>\n",
       "    </tr>\n",
       "    <tr>\n",
       "      <th>2</th>\n",
       "      <td>1.857143</td>\n",
       "      <td>2030.0</td>\n",
       "      <td>738.736842</td>\n",
       "      <td>49.90</td>\n",
       "      <td>33.000000</td>\n",
       "      <td>284.615385</td>\n",
       "      <td>210.0</td>\n",
       "      <td>220.0</td>\n",
       "      <td>0</td>\n",
       "      <td>4.0</td>\n",
       "      <td>70.0</td>\n",
       "    </tr>\n",
       "    <tr>\n",
       "      <th>3</th>\n",
       "      <td>1.857143</td>\n",
       "      <td>2030.0</td>\n",
       "      <td>738.736842</td>\n",
       "      <td>129.00</td>\n",
       "      <td>21.250000</td>\n",
       "      <td>300.000000</td>\n",
       "      <td>210.0</td>\n",
       "      <td>220.0</td>\n",
       "      <td>0</td>\n",
       "      <td>5.0</td>\n",
       "      <td>47.0</td>\n",
       "    </tr>\n",
       "    <tr>\n",
       "      <th>4</th>\n",
       "      <td>2.771331</td>\n",
       "      <td>2030.0</td>\n",
       "      <td>753.000000</td>\n",
       "      <td>111.86</td>\n",
       "      <td>22.267857</td>\n",
       "      <td>284.615385</td>\n",
       "      <td>210.0</td>\n",
       "      <td>220.0</td>\n",
       "      <td>0</td>\n",
       "      <td>5.0</td>\n",
       "      <td>57.0</td>\n",
       "    </tr>\n",
       "  </tbody>\n",
       "</table>\n",
       "</div>"
      ],
      "text/plain": [
       "   Соотношение матрица-наполнитель  Плотность, кг/м3  модуль упругости, ГПа  \\\n",
       "0                         1.857143            2030.0             738.736842   \n",
       "1                         1.857143            2030.0             738.736842   \n",
       "2                         1.857143            2030.0             738.736842   \n",
       "3                         1.857143            2030.0             738.736842   \n",
       "4                         2.771331            2030.0             753.000000   \n",
       "\n",
       "   Количество отвердителя, м.%  Содержание эпоксидных групп,%_2  \\\n",
       "0                        30.00                        22.267857   \n",
       "1                        50.00                        23.750000   \n",
       "2                        49.90                        33.000000   \n",
       "3                       129.00                        21.250000   \n",
       "4                       111.86                        22.267857   \n",
       "\n",
       "   Температура вспышки, С_2  Поверхностная плотность, г/м2  \\\n",
       "0                100.000000                          210.0   \n",
       "1                284.615385                          210.0   \n",
       "2                284.615385                          210.0   \n",
       "3                300.000000                          210.0   \n",
       "4                284.615385                          210.0   \n",
       "\n",
       "   Потребление смолы, г/м2  Угол нашивки, град  Шаг нашивки  Плотность нашивки  \n",
       "0                    220.0                   0          4.0               57.0  \n",
       "1                    220.0                   0          4.0               60.0  \n",
       "2                    220.0                   0          4.0               70.0  \n",
       "3                    220.0                   0          5.0               47.0  \n",
       "4                    220.0                   0          5.0               57.0  "
      ]
     },
     "execution_count": 39,
     "metadata": {},
     "output_type": "execute_result"
    }
   ],
   "source": [
    "le = LabelEncoder()\n",
    "X_2 = X.copy()\n",
    "\n",
    "X_2['Угол нашивки, град'] = le.fit_transform(X_2['Угол нашивки, град'])\n",
    "X_2.head()"
   ]
  },
  {
   "cell_type": "code",
   "execution_count": 41,
   "id": "efad355a",
   "metadata": {},
   "outputs": [],
   "source": [
    "X_train_2, X_test_2, y_train_2, y_test_2 = train_test_split(X_2,y, test_size=0.2, random_state=42, shuffle=True)"
   ]
  },
  {
   "cell_type": "code",
   "execution_count": 43,
   "id": "d878b3a0",
   "metadata": {},
   "outputs": [
    {
     "name": "stdout",
     "output_type": "stream",
     "text": [
      "2.4533628633088638\n"
     ]
    }
   ],
   "source": [
    "modelLasso = Lasso(alpha=0.1)\n",
    "modelLasso.fit(X_train_2,y_train_2.iloc[:,0])\n",
    "y_pred = modelLasso.predict(X_test_2)\n",
    "MAELasso_1 = mean_absolute_error(y_test_2.iloc[:,0],y_pred)\n",
    "#MAELasso_2 = mean_absolute_error(y_test.iloc[:,1],y_pred[:,1])\n",
    "print (MAELasso_1)\n",
    "#print (MAELasso_2)"
   ]
  }
 ],
 "metadata": {
  "kernelspec": {
   "display_name": "Python 3 (ipykernel)",
   "language": "python",
   "name": "python3"
  },
  "language_info": {
   "codemirror_mode": {
    "name": "ipython",
    "version": 3
   },
   "file_extension": ".py",
   "mimetype": "text/x-python",
   "name": "python",
   "nbconvert_exporter": "python",
   "pygments_lexer": "ipython3",
   "version": "3.9.12"
  }
 },
 "nbformat": 4,
 "nbformat_minor": 5
}
